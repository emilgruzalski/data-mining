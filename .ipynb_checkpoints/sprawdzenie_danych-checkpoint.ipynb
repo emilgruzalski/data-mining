{
 "cells": [
  {
   "cell_type": "code",
   "execution_count": 1,
   "id": "65df94fd-67e1-4cca-9117-467ec5917cbc",
   "metadata": {
    "tags": []
   },
   "outputs": [],
   "source": [
    "import pandas as pd"
   ]
  },
  {
   "cell_type": "code",
   "execution_count": 2,
   "id": "51981272-a4d8-4108-b8c5-24bbc4166092",
   "metadata": {
    "tags": []
   },
   "outputs": [
    {
     "data": {
      "text/plain": [
       "<module 'pandas' from '/home/rrnax/anaconda3/lib/python3.11/site-packages/pandas/__init__.py'>"
      ]
     },
     "execution_count": 2,
     "metadata": {},
     "output_type": "execute_result"
    }
   ],
   "source": [
    "pd"
   ]
  },
  {
   "cell_type": "code",
   "execution_count": 14,
   "id": "fad08d03-99de-4eae-b4b3-c4c14f30b5c5",
   "metadata": {
    "tags": []
   },
   "outputs": [],
   "source": [
    "auta = pd.read_csv(\"auto_mpg.csv\", sep=\";\")"
   ]
  },
  {
   "cell_type": "code",
   "execution_count": 15,
   "id": "f538c134-6246-4d2c-89fd-3b10a0a0968a",
   "metadata": {
    "tags": []
   },
   "outputs": [
    {
     "data": {
      "text/html": [
       "<div>\n",
       "<style scoped>\n",
       "    .dataframe tbody tr th:only-of-type {\n",
       "        vertical-align: middle;\n",
       "    }\n",
       "\n",
       "    .dataframe tbody tr th {\n",
       "        vertical-align: top;\n",
       "    }\n",
       "\n",
       "    .dataframe thead th {\n",
       "        text-align: right;\n",
       "    }\n",
       "</style>\n",
       "<table border=\"1\" class=\"dataframe\">\n",
       "  <thead>\n",
       "    <tr style=\"text-align: right;\">\n",
       "      <th></th>\n",
       "      <th>cylinders</th>\n",
       "      <th>displacement</th>\n",
       "      <th>horsepower</th>\n",
       "      <th>weight</th>\n",
       "      <th>acceleration</th>\n",
       "      <th>model_year</th>\n",
       "      <th>origin</th>\n",
       "      <th>car_name</th>\n",
       "      <th>mpg</th>\n",
       "    </tr>\n",
       "  </thead>\n",
       "  <tbody>\n",
       "    <tr>\n",
       "      <th>0</th>\n",
       "      <td>8</td>\n",
       "      <td>307</td>\n",
       "      <td>130</td>\n",
       "      <td>3504</td>\n",
       "      <td>12</td>\n",
       "      <td>70</td>\n",
       "      <td>1</td>\n",
       "      <td>chevrolet chevelle malibu</td>\n",
       "      <td>18</td>\n",
       "    </tr>\n",
       "    <tr>\n",
       "      <th>1</th>\n",
       "      <td>8</td>\n",
       "      <td>350</td>\n",
       "      <td>165</td>\n",
       "      <td>3693</td>\n",
       "      <td>11,5</td>\n",
       "      <td>70</td>\n",
       "      <td>1</td>\n",
       "      <td>buick skylark 320</td>\n",
       "      <td>15</td>\n",
       "    </tr>\n",
       "    <tr>\n",
       "      <th>2</th>\n",
       "      <td>8</td>\n",
       "      <td>318</td>\n",
       "      <td>150</td>\n",
       "      <td>3436</td>\n",
       "      <td>11</td>\n",
       "      <td>70</td>\n",
       "      <td>1</td>\n",
       "      <td>plymouth satellite</td>\n",
       "      <td>18</td>\n",
       "    </tr>\n",
       "    <tr>\n",
       "      <th>3</th>\n",
       "      <td>8</td>\n",
       "      <td>304</td>\n",
       "      <td>150</td>\n",
       "      <td>3433</td>\n",
       "      <td>12</td>\n",
       "      <td>70</td>\n",
       "      <td>1</td>\n",
       "      <td>amc rebel sst</td>\n",
       "      <td>16</td>\n",
       "    </tr>\n",
       "    <tr>\n",
       "      <th>4</th>\n",
       "      <td>8</td>\n",
       "      <td>302</td>\n",
       "      <td>140</td>\n",
       "      <td>3449</td>\n",
       "      <td>10,5</td>\n",
       "      <td>70</td>\n",
       "      <td>1</td>\n",
       "      <td>ford torino</td>\n",
       "      <td>17</td>\n",
       "    </tr>\n",
       "    <tr>\n",
       "      <th>...</th>\n",
       "      <td>...</td>\n",
       "      <td>...</td>\n",
       "      <td>...</td>\n",
       "      <td>...</td>\n",
       "      <td>...</td>\n",
       "      <td>...</td>\n",
       "      <td>...</td>\n",
       "      <td>...</td>\n",
       "      <td>...</td>\n",
       "    </tr>\n",
       "    <tr>\n",
       "      <th>380</th>\n",
       "      <td>4</td>\n",
       "      <td>140</td>\n",
       "      <td>86</td>\n",
       "      <td>2790</td>\n",
       "      <td>15,6</td>\n",
       "      <td>82</td>\n",
       "      <td>1</td>\n",
       "      <td>ford mustang gl</td>\n",
       "      <td>27</td>\n",
       "    </tr>\n",
       "    <tr>\n",
       "      <th>381</th>\n",
       "      <td>4</td>\n",
       "      <td>97</td>\n",
       "      <td>52</td>\n",
       "      <td>2130</td>\n",
       "      <td>24,6</td>\n",
       "      <td>82</td>\n",
       "      <td>2</td>\n",
       "      <td>vw pickup</td>\n",
       "      <td>44</td>\n",
       "    </tr>\n",
       "    <tr>\n",
       "      <th>382</th>\n",
       "      <td>4</td>\n",
       "      <td>135</td>\n",
       "      <td>84</td>\n",
       "      <td>2295</td>\n",
       "      <td>11,6</td>\n",
       "      <td>82</td>\n",
       "      <td>1</td>\n",
       "      <td>dodge rampage</td>\n",
       "      <td>32</td>\n",
       "    </tr>\n",
       "    <tr>\n",
       "      <th>383</th>\n",
       "      <td>4</td>\n",
       "      <td>120</td>\n",
       "      <td>79</td>\n",
       "      <td>2625</td>\n",
       "      <td>18,6</td>\n",
       "      <td>82</td>\n",
       "      <td>1</td>\n",
       "      <td>ford ranger</td>\n",
       "      <td>28</td>\n",
       "    </tr>\n",
       "    <tr>\n",
       "      <th>384</th>\n",
       "      <td>4</td>\n",
       "      <td>119</td>\n",
       "      <td>82</td>\n",
       "      <td>2720</td>\n",
       "      <td>19,4</td>\n",
       "      <td>82</td>\n",
       "      <td>1</td>\n",
       "      <td>chevy s-10</td>\n",
       "      <td>31</td>\n",
       "    </tr>\n",
       "  </tbody>\n",
       "</table>\n",
       "<p>385 rows × 9 columns</p>\n",
       "</div>"
      ],
      "text/plain": [
       "     cylinders displacement  horsepower  weight acceleration  model_year  \\\n",
       "0            8          307         130    3504           12          70   \n",
       "1            8          350         165    3693         11,5          70   \n",
       "2            8          318         150    3436           11          70   \n",
       "3            8          304         150    3433           12          70   \n",
       "4            8          302         140    3449         10,5          70   \n",
       "..         ...          ...         ...     ...          ...         ...   \n",
       "380          4          140          86    2790         15,6          82   \n",
       "381          4           97          52    2130         24,6          82   \n",
       "382          4          135          84    2295         11,6          82   \n",
       "383          4          120          79    2625         18,6          82   \n",
       "384          4          119          82    2720         19,4          82   \n",
       "\n",
       "    origin                   car_name mpg  \n",
       "0        1  chevrolet chevelle malibu  18  \n",
       "1        1          buick skylark 320  15  \n",
       "2        1         plymouth satellite  18  \n",
       "3        1              amc rebel sst  16  \n",
       "4        1                ford torino  17  \n",
       "..     ...                        ...  ..  \n",
       "380      1            ford mustang gl  27  \n",
       "381      2                  vw pickup  44  \n",
       "382      1              dodge rampage  32  \n",
       "383      1                ford ranger  28  \n",
       "384      1                 chevy s-10  31  \n",
       "\n",
       "[385 rows x 9 columns]"
      ]
     },
     "execution_count": 15,
     "metadata": {},
     "output_type": "execute_result"
    }
   ],
   "source": [
    "auta"
   ]
  },
  {
   "cell_type": "code",
   "execution_count": 16,
   "id": "24e07204-5f6e-454d-bdaa-77c1cb626f47",
   "metadata": {
    "tags": []
   },
   "outputs": [
    {
     "name": "stdout",
     "output_type": "stream",
     "text": [
      "<class 'pandas.core.frame.DataFrame'>\n",
      "RangeIndex: 385 entries, 0 to 384\n",
      "Data columns (total 9 columns):\n",
      " #   Column        Non-Null Count  Dtype \n",
      "---  ------        --------------  ----- \n",
      " 0   cylinders     385 non-null    int64 \n",
      " 1   displacement  385 non-null    object\n",
      " 2   horsepower    385 non-null    int64 \n",
      " 3   weight        385 non-null    int64 \n",
      " 4   acceleration  385 non-null    object\n",
      " 5   model_year    385 non-null    int64 \n",
      " 6   origin        385 non-null    object\n",
      " 7   car_name      385 non-null    object\n",
      " 8   mpg           385 non-null    object\n",
      "dtypes: int64(4), object(5)\n",
      "memory usage: 27.2+ KB\n"
     ]
    }
   ],
   "source": [
    "auta.info()"
   ]
  },
  {
   "cell_type": "code",
   "execution_count": 17,
   "id": "2204fa16-debd-4263-bca2-888f667ff5e9",
   "metadata": {
    "tags": []
   },
   "outputs": [],
   "source": [
    "auta.set_index('car_name', inplace=True)"
   ]
  },
  {
   "cell_type": "code",
   "execution_count": 18,
   "id": "4519b52c-c17e-4c93-96c2-5389d08476f1",
   "metadata": {
    "tags": []
   },
   "outputs": [
    {
     "data": {
      "text/html": [
       "<div>\n",
       "<style scoped>\n",
       "    .dataframe tbody tr th:only-of-type {\n",
       "        vertical-align: middle;\n",
       "    }\n",
       "\n",
       "    .dataframe tbody tr th {\n",
       "        vertical-align: top;\n",
       "    }\n",
       "\n",
       "    .dataframe thead th {\n",
       "        text-align: right;\n",
       "    }\n",
       "</style>\n",
       "<table border=\"1\" class=\"dataframe\">\n",
       "  <thead>\n",
       "    <tr style=\"text-align: right;\">\n",
       "      <th></th>\n",
       "      <th>cylinders</th>\n",
       "      <th>displacement</th>\n",
       "      <th>horsepower</th>\n",
       "      <th>weight</th>\n",
       "      <th>acceleration</th>\n",
       "      <th>model_year</th>\n",
       "      <th>origin</th>\n",
       "      <th>mpg</th>\n",
       "    </tr>\n",
       "    <tr>\n",
       "      <th>car_name</th>\n",
       "      <th></th>\n",
       "      <th></th>\n",
       "      <th></th>\n",
       "      <th></th>\n",
       "      <th></th>\n",
       "      <th></th>\n",
       "      <th></th>\n",
       "      <th></th>\n",
       "    </tr>\n",
       "  </thead>\n",
       "  <tbody>\n",
       "    <tr>\n",
       "      <th>chevrolet chevelle malibu</th>\n",
       "      <td>8</td>\n",
       "      <td>307</td>\n",
       "      <td>130</td>\n",
       "      <td>3504</td>\n",
       "      <td>12</td>\n",
       "      <td>70</td>\n",
       "      <td>1</td>\n",
       "      <td>18</td>\n",
       "    </tr>\n",
       "    <tr>\n",
       "      <th>buick skylark 320</th>\n",
       "      <td>8</td>\n",
       "      <td>350</td>\n",
       "      <td>165</td>\n",
       "      <td>3693</td>\n",
       "      <td>11,5</td>\n",
       "      <td>70</td>\n",
       "      <td>1</td>\n",
       "      <td>15</td>\n",
       "    </tr>\n",
       "    <tr>\n",
       "      <th>plymouth satellite</th>\n",
       "      <td>8</td>\n",
       "      <td>318</td>\n",
       "      <td>150</td>\n",
       "      <td>3436</td>\n",
       "      <td>11</td>\n",
       "      <td>70</td>\n",
       "      <td>1</td>\n",
       "      <td>18</td>\n",
       "    </tr>\n",
       "    <tr>\n",
       "      <th>amc rebel sst</th>\n",
       "      <td>8</td>\n",
       "      <td>304</td>\n",
       "      <td>150</td>\n",
       "      <td>3433</td>\n",
       "      <td>12</td>\n",
       "      <td>70</td>\n",
       "      <td>1</td>\n",
       "      <td>16</td>\n",
       "    </tr>\n",
       "    <tr>\n",
       "      <th>ford torino</th>\n",
       "      <td>8</td>\n",
       "      <td>302</td>\n",
       "      <td>140</td>\n",
       "      <td>3449</td>\n",
       "      <td>10,5</td>\n",
       "      <td>70</td>\n",
       "      <td>1</td>\n",
       "      <td>17</td>\n",
       "    </tr>\n",
       "    <tr>\n",
       "      <th>...</th>\n",
       "      <td>...</td>\n",
       "      <td>...</td>\n",
       "      <td>...</td>\n",
       "      <td>...</td>\n",
       "      <td>...</td>\n",
       "      <td>...</td>\n",
       "      <td>...</td>\n",
       "      <td>...</td>\n",
       "    </tr>\n",
       "    <tr>\n",
       "      <th>ford mustang gl</th>\n",
       "      <td>4</td>\n",
       "      <td>140</td>\n",
       "      <td>86</td>\n",
       "      <td>2790</td>\n",
       "      <td>15,6</td>\n",
       "      <td>82</td>\n",
       "      <td>1</td>\n",
       "      <td>27</td>\n",
       "    </tr>\n",
       "    <tr>\n",
       "      <th>vw pickup</th>\n",
       "      <td>4</td>\n",
       "      <td>97</td>\n",
       "      <td>52</td>\n",
       "      <td>2130</td>\n",
       "      <td>24,6</td>\n",
       "      <td>82</td>\n",
       "      <td>2</td>\n",
       "      <td>44</td>\n",
       "    </tr>\n",
       "    <tr>\n",
       "      <th>dodge rampage</th>\n",
       "      <td>4</td>\n",
       "      <td>135</td>\n",
       "      <td>84</td>\n",
       "      <td>2295</td>\n",
       "      <td>11,6</td>\n",
       "      <td>82</td>\n",
       "      <td>1</td>\n",
       "      <td>32</td>\n",
       "    </tr>\n",
       "    <tr>\n",
       "      <th>ford ranger</th>\n",
       "      <td>4</td>\n",
       "      <td>120</td>\n",
       "      <td>79</td>\n",
       "      <td>2625</td>\n",
       "      <td>18,6</td>\n",
       "      <td>82</td>\n",
       "      <td>1</td>\n",
       "      <td>28</td>\n",
       "    </tr>\n",
       "    <tr>\n",
       "      <th>chevy s-10</th>\n",
       "      <td>4</td>\n",
       "      <td>119</td>\n",
       "      <td>82</td>\n",
       "      <td>2720</td>\n",
       "      <td>19,4</td>\n",
       "      <td>82</td>\n",
       "      <td>1</td>\n",
       "      <td>31</td>\n",
       "    </tr>\n",
       "  </tbody>\n",
       "</table>\n",
       "<p>385 rows × 8 columns</p>\n",
       "</div>"
      ],
      "text/plain": [
       "                           cylinders displacement  horsepower  weight  \\\n",
       "car_name                                                                \n",
       "chevrolet chevelle malibu          8          307         130    3504   \n",
       "buick skylark 320                  8          350         165    3693   \n",
       "plymouth satellite                 8          318         150    3436   \n",
       "amc rebel sst                      8          304         150    3433   \n",
       "ford torino                        8          302         140    3449   \n",
       "...                              ...          ...         ...     ...   \n",
       "ford mustang gl                    4          140          86    2790   \n",
       "vw pickup                          4           97          52    2130   \n",
       "dodge rampage                      4          135          84    2295   \n",
       "ford ranger                        4          120          79    2625   \n",
       "chevy s-10                         4          119          82    2720   \n",
       "\n",
       "                          acceleration  model_year origin mpg  \n",
       "car_name                                                       \n",
       "chevrolet chevelle malibu           12          70      1  18  \n",
       "buick skylark 320                 11,5          70      1  15  \n",
       "plymouth satellite                  11          70      1  18  \n",
       "amc rebel sst                       12          70      1  16  \n",
       "ford torino                       10,5          70      1  17  \n",
       "...                                ...         ...    ...  ..  \n",
       "ford mustang gl                   15,6          82      1  27  \n",
       "vw pickup                         24,6          82      2  44  \n",
       "dodge rampage                     11,6          82      1  32  \n",
       "ford ranger                       18,6          82      1  28  \n",
       "chevy s-10                        19,4          82      1  31  \n",
       "\n",
       "[385 rows x 8 columns]"
      ]
     },
     "execution_count": 18,
     "metadata": {},
     "output_type": "execute_result"
    }
   ],
   "source": [
    "auta"
   ]
  },
  {
   "cell_type": "code",
   "execution_count": 19,
   "id": "58fb1ca8-c5d2-4f7c-a520-fd54e30c6b1d",
   "metadata": {
    "tags": []
   },
   "outputs": [
    {
     "name": "stdout",
     "output_type": "stream",
     "text": [
      "cylinders  :  [8 4 6 3 5]\n",
      "\n",
      "\n",
      "displacement  :  ['307' '350' '318' '304' '302' '429' '455' '383' '113' '198' '199' '200'\n",
      " '97' '110' '107' '104' '121' '360' '140' '232' '225' '250' '400' '351'\n",
      " '258' '122' '116' '79' '88' '71' '72' '91' '97,5' '70' '120' '96' '98'\n",
      " '440' '108' '155' '68' '114' '156' '76' '83' '90' '231' '262' '134' '119'\n",
      " '171' '115' '101' '305' '85' '130' '168' '111' '260' '151' '146' '80'\n",
      " '78' '105' '131' '163' '89' '267' '86' '183' '141' '173' '135' '81' '145'\n",
      " '112' '181' '144']\n",
      "\n",
      "\n",
      "horsepower  :  [130 165 150 140 198 225 170  95  97  85  88  46  87  90 113 215 200 210\n",
      " 193 100 105 175 153 180 110  72  86  70  76  65  69  60  80  54 208 155\n",
      " 160 190 112  92 145 137 158 167  94 107 230  49  75  91 122  67  83  78\n",
      "  52  61  93 148 129  96  71  98 115  53  81  79 120 152 102 108  68  58\n",
      " 149  89  63  48  66 139 103 125 133 138 135 142  77  62 132  84  64  74\n",
      " 116  82]\n",
      "\n",
      "\n",
      "weight  :  [3504 3693 3436 3433 3449 4341 4425 3563 3086 2372 2833 2774 2587 2130\n",
      " 1835 2672 2430 2375 2234 2648 4615 4376 4382 4732 2264 2228 2634 3439\n",
      " 3329 3302 3288 4209 4464 4154 4096 4955 4746 5140 2962 2408 3282 3139\n",
      " 2220 2123 2074 2065 1773 1613 1834 1955 2278 2126 2254 2226 4274 4385\n",
      " 4135 4129 3672 4633 4502 4456 4422 2330 3892 4098 4294 4077 2933 2511\n",
      " 2979 2189 2395 2288 2506 2164 2100 4100 3988 4042 3777 4952 4363 4237\n",
      " 4735 4951 3821 3121 3278 2945 3021 2904 1950 4997 4906 4654 4499 2789\n",
      " 2279 2401 2379 2124 2310 2472 2265 4082 4278 1867 2158 2582 2868 3399\n",
      " 2660 2807 3664 3102 2901 3336 2451 1836 2542 3781 3632 3613 4141 4699\n",
      " 4457 4638 4257 2219 1963 2300 1649 2003 2125 2108 2246 2489 2391 2000\n",
      " 3264 3459 3432 3158 4668 4440 4498 4657 3907 3897 3730 3785 3039 3221\n",
      " 3169 2171 2639 2914 2592 2702 2223 2545 2984 1937 3211 2694 2957 2671\n",
      " 1795 2464 2572 2255 2202 4215 4190 3962 3233 3353 3012 3085 2035 3651\n",
      " 3574 3645 3193 1825 1990 2155 2565 3150 3940 3270 2930 3820 4380 4055\n",
      " 3870 3755 2045 1945 3880 4060 4140 4295 3520 3425 3630 3525 4220 4165\n",
      " 4325 4335 1940 2740 2755 2051 2075 1985 2190 2815 2600 2720 1800 2070\n",
      " 3365 3735 3570 3535 3155 2965 3430 3210 3380 3070 3620 3410 3445 3205\n",
      " 4080 2560 2230 2515 2745 2855 2405 2830 3140 2795 2135 3245 2990 2890\n",
      " 3265 3360 3840 3725 3955 3830 4360 4054 3605 1925 1975 1915 2670 3530\n",
      " 3900 3190 3420 2200 2150 2020 2595 2700 2556 2144 1968 2120 2019 2678\n",
      " 2870 3003 3381 2188 2711 2434 2110 2800 2085 2335 2950 3250 1850 2145\n",
      " 1845 2910 2420 2500 2290 2490 2635 2620 2725 2385 1755 1875 1760 2050\n",
      " 2215 2380 2210 2350 2615 3230 3160 2900 3415 3060 3465 2605 2640 2575\n",
      " 2525 2735 2865 1980 2025 1970 2160 2205 1965 1995 3015 2585 2665 2370\n",
      " 2790 2295 2625]\n",
      "\n",
      "\n",
      "acceleration  :  ['12' '11,5' '11' '10,5' '10' '15' '15,5' '16' '14,5' '20,5' '17,5' '12,5'\n",
      " '14' '13,5' '18,5' '13' '19' '19,5' '18' '17' '23,5' '16,5' '21' '9,5'\n",
      " '16,9' '14,9' '17,7' '15,3' '13,9' '12,8' '15,4' '17,6' '22,2' '22,1'\n",
      " '14,2' '17,4' '16,2' '17,8' '12,2' '16,4' '13,6' '15,7' '13,2' '21,9'\n",
      " '16,7' '12,1' '14,8' '18,6' '16,8' '13,7' '11,1' '11,4' '18,2' '15,8'\n",
      " '15,9' '14,1' '21,5' '14,4' '19,4' '19,2' '17,2' '18,7' '15,1' '13,4'\n",
      " '11,2' '14,7' '16,6' '17,3' '15,2' '14,3' '20,1' '24,8' '11,3' '12,9'\n",
      " '18,8' '18,1' '17,9' '21,7' '23,7' '19,9' '21,8' '13,8' '12,6' '16,1'\n",
      " '20,7' '18,3' '20,4' '19,6' '17,1' '15,6' '24,6' '11,6']\n",
      "\n",
      "\n",
      "model_year  :  [70 71 72 73 74 75 76 77 78 79 80 81 82]\n",
      "\n",
      "\n",
      "origin  :  ['1' '3' '2' ' ']\n",
      "\n",
      "\n",
      "mpg  :  ['18' '15' '16' '17' '14' '24' '22' '21' '27' '26' '25' '10' '11' '9' '28'\n",
      " '19' '12' '13' '23' '30' '31' '35' '20' '29' '32' '33' '17,5' '15,5'\n",
      " '14,5' '22,5' '24,5' '18,5' '29,5' '26,5' '16,5' '31,5' '36' '25,5'\n",
      " '33,5' '20,5' '30,5' '21,5' '43,1' '36,1' '32,8' '39,4' '19,9' '19,4'\n",
      " '20,2' '19,2' '25,1' '20,6' '20,8' '18,6' '18,1' '17,7' '27,5' '27,2'\n",
      " '30,9' '21,1' '23,2' '23,8' '23,9' '20,3' '21,6' '16,2' '19,8' '22,3'\n",
      " '17,6' '18,2' '16,9' '31,9' '34,1' '35,7' '27,4' '25,4' '34,2' '34,5'\n",
      " '31,8' '37,3' '28,4' '28,8' '26,8' '41,5' '38,1' '32,1' '37,2' '26,4'\n",
      " '24,3' '19,1' '34,3' '29,8' '31,3' '37' '32,2' '46,6' '27,9' '40,8'\n",
      " '44,3' '43,4' '36,4' '44,6' '33,8' '32,7' '23,7' '32,4' '26,6' '25,8'\n",
      " '23,5' '39,1' '39' '35,1' '32,3' '37,7' '34,7' '34,4' '29,9' '33,7'\n",
      " '32,9' '31,6' '28,1' '30,7' '24,2' '22,4' '34' '38' '44']\n",
      "\n",
      "\n"
     ]
    }
   ],
   "source": [
    "for column in auta.columns:\n",
    "    print(column, \" : \", auta[column].unique())\n",
    "    print('\\n')"
   ]
  },
  {
   "cell_type": "markdown",
   "id": "805e531e-8989-4ba4-b76e-ea3f20cd2342",
   "metadata": {},
   "source": [
    "Widzimy że zmienna \"origin\" ma pustą zawartość, zobaczmy ile jest rekordów zawierających pustym pochodzeniem"
   ]
  },
  {
   "cell_type": "code",
   "execution_count": 20,
   "id": "0c543433-f65c-471e-9860-f82ec24566a4",
   "metadata": {
    "tags": []
   },
   "outputs": [
    {
     "data": {
      "text/html": [
       "<div>\n",
       "<style scoped>\n",
       "    .dataframe tbody tr th:only-of-type {\n",
       "        vertical-align: middle;\n",
       "    }\n",
       "\n",
       "    .dataframe tbody tr th {\n",
       "        vertical-align: top;\n",
       "    }\n",
       "\n",
       "    .dataframe thead th {\n",
       "        text-align: right;\n",
       "    }\n",
       "</style>\n",
       "<table border=\"1\" class=\"dataframe\">\n",
       "  <thead>\n",
       "    <tr style=\"text-align: right;\">\n",
       "      <th></th>\n",
       "      <th>cylinders</th>\n",
       "      <th>displacement</th>\n",
       "      <th>horsepower</th>\n",
       "      <th>weight</th>\n",
       "      <th>acceleration</th>\n",
       "      <th>model_year</th>\n",
       "      <th>origin</th>\n",
       "      <th>mpg</th>\n",
       "    </tr>\n",
       "    <tr>\n",
       "      <th>car_name</th>\n",
       "      <th></th>\n",
       "      <th></th>\n",
       "      <th></th>\n",
       "      <th></th>\n",
       "      <th></th>\n",
       "      <th></th>\n",
       "      <th></th>\n",
       "      <th></th>\n",
       "    </tr>\n",
       "  </thead>\n",
       "  <tbody>\n",
       "    <tr>\n",
       "      <th>2.</th>\n",
       "      <td>4</td>\n",
       "      <td>90</td>\n",
       "      <td>48</td>\n",
       "      <td>1985</td>\n",
       "      <td>21,5</td>\n",
       "      <td>78</td>\n",
       "      <td></td>\n",
       "      <td>43,1</td>\n",
       "    </tr>\n",
       "    <tr>\n",
       "      <th>1.</th>\n",
       "      <td>4</td>\n",
       "      <td>98</td>\n",
       "      <td>66</td>\n",
       "      <td>1800</td>\n",
       "      <td>14,4</td>\n",
       "      <td>78</td>\n",
       "      <td></td>\n",
       "      <td>36,1</td>\n",
       "    </tr>\n",
       "  </tbody>\n",
       "</table>\n",
       "</div>"
      ],
      "text/plain": [
       "          cylinders displacement  horsepower  weight acceleration  model_year  \\\n",
       "car_name                                                                        \n",
       "2.                4           90          48    1985         21,5          78   \n",
       "1.                4           98          66    1800         14,4          78   \n",
       "\n",
       "         origin   mpg  \n",
       "car_name               \n",
       "2.               43,1  \n",
       "1.               36,1  "
      ]
     },
     "execution_count": 20,
     "metadata": {},
     "output_type": "execute_result"
    }
   ],
   "source": [
    "auta[auta.origin == \" \"]"
   ]
  },
  {
   "cell_type": "markdown",
   "id": "cf16b91c-df0a-44a8-904d-621b608fe418",
   "metadata": {},
   "source": [
    "Widzimy że te rkordy nawet nie mają poprawnej nazwy, więc usuwamy je ze zbioru."
   ]
  },
  {
   "cell_type": "code",
   "execution_count": 21,
   "id": "1076d46f-4fb8-4c6d-86d8-dd2552e46697",
   "metadata": {
    "tags": []
   },
   "outputs": [],
   "source": [
    "auta = pd.read_csv(\"auto_mpg.csv\", sep=\";\", na_values=' ')"
   ]
  },
  {
   "cell_type": "code",
   "execution_count": 22,
   "id": "dd69d4cf-74a0-4606-b030-ef11d5eb563f",
   "metadata": {
    "tags": []
   },
   "outputs": [
    {
     "name": "stdout",
     "output_type": "stream",
     "text": [
      "<class 'pandas.core.frame.DataFrame'>\n",
      "RangeIndex: 385 entries, 0 to 384\n",
      "Data columns (total 9 columns):\n",
      " #   Column        Non-Null Count  Dtype  \n",
      "---  ------        --------------  -----  \n",
      " 0   cylinders     385 non-null    int64  \n",
      " 1   displacement  385 non-null    object \n",
      " 2   horsepower    385 non-null    int64  \n",
      " 3   weight        385 non-null    int64  \n",
      " 4   acceleration  385 non-null    object \n",
      " 5   model_year    385 non-null    int64  \n",
      " 6   origin        383 non-null    float64\n",
      " 7   car_name      385 non-null    object \n",
      " 8   mpg           385 non-null    object \n",
      "dtypes: float64(1), int64(4), object(4)\n",
      "memory usage: 27.2+ KB\n"
     ]
    }
   ],
   "source": [
    "auta.info()"
   ]
  },
  {
   "cell_type": "code",
   "execution_count": 24,
   "id": "825567c5-a4d0-484a-a1ce-713ce6bd9a4d",
   "metadata": {
    "tags": []
   },
   "outputs": [
    {
     "data": {
      "text/plain": [
       "cylinders       False\n",
       "displacement    False\n",
       "horsepower      False\n",
       "weight          False\n",
       "acceleration    False\n",
       "model_year      False\n",
       "origin           True\n",
       "car_name        False\n",
       "mpg             False\n",
       "dtype: bool"
      ]
     },
     "execution_count": 24,
     "metadata": {},
     "output_type": "execute_result"
    }
   ],
   "source": [
    "auta.isna().any()"
   ]
  },
  {
   "cell_type": "code",
   "execution_count": 25,
   "id": "9f811585-e673-4125-ba58-0f98023c4de4",
   "metadata": {
    "tags": []
   },
   "outputs": [],
   "source": [
    "auta.dropna(how=\"any\", inplace=True)"
   ]
  },
  {
   "cell_type": "code",
   "execution_count": 28,
   "id": "6463fc76-af84-49d7-a568-7e2df4745b18",
   "metadata": {
    "tags": []
   },
   "outputs": [
    {
     "data": {
      "text/plain": [
       "cylinders       False\n",
       "displacement    False\n",
       "horsepower      False\n",
       "weight          False\n",
       "acceleration    False\n",
       "model_year      False\n",
       "origin          False\n",
       "car_name        False\n",
       "mpg             False\n",
       "dtype: bool"
      ]
     },
     "execution_count": 28,
     "metadata": {},
     "output_type": "execute_result"
    }
   ],
   "source": [
    "auta.isna().any()"
   ]
  },
  {
   "cell_type": "code",
   "execution_count": 30,
   "id": "162b31d1-ed1c-41ee-96aa-d069644d2c86",
   "metadata": {
    "tags": []
   },
   "outputs": [
    {
     "data": {
      "text/html": [
       "<div>\n",
       "<style scoped>\n",
       "    .dataframe tbody tr th:only-of-type {\n",
       "        vertical-align: middle;\n",
       "    }\n",
       "\n",
       "    .dataframe tbody tr th {\n",
       "        vertical-align: top;\n",
       "    }\n",
       "\n",
       "    .dataframe thead th {\n",
       "        text-align: right;\n",
       "    }\n",
       "</style>\n",
       "<table border=\"1\" class=\"dataframe\">\n",
       "  <thead>\n",
       "    <tr style=\"text-align: right;\">\n",
       "      <th></th>\n",
       "      <th>cylinders</th>\n",
       "      <th>displacement</th>\n",
       "      <th>horsepower</th>\n",
       "      <th>weight</th>\n",
       "      <th>acceleration</th>\n",
       "      <th>model_year</th>\n",
       "      <th>origin</th>\n",
       "      <th>car_name</th>\n",
       "      <th>mpg</th>\n",
       "    </tr>\n",
       "  </thead>\n",
       "  <tbody>\n",
       "  </tbody>\n",
       "</table>\n",
       "</div>"
      ],
      "text/plain": [
       "Empty DataFrame\n",
       "Columns: [cylinders, displacement, horsepower, weight, acceleration, model_year, origin, car_name, mpg]\n",
       "Index: []"
      ]
     },
     "execution_count": 30,
     "metadata": {},
     "output_type": "execute_result"
    }
   ],
   "source": [
    "auta[auta.duplicated(keep=False)].sort_values(by='car_name')"
   ]
  },
  {
   "cell_type": "code",
   "execution_count": 46,
   "id": "6964dfb5-9c90-4b17-a482-0a50e9319bae",
   "metadata": {
    "tags": []
   },
   "outputs": [
    {
     "name": "stdout",
     "output_type": "stream",
     "text": [
      "<class 'pandas.core.frame.DataFrame'>\n",
      "Index: 383 entries, 0 to 384\n",
      "Data columns (total 9 columns):\n",
      " #   Column        Non-Null Count  Dtype  \n",
      "---  ------        --------------  -----  \n",
      " 0   cylinders     383 non-null    int64  \n",
      " 1   displacement  383 non-null    float64\n",
      " 2   horsepower    383 non-null    int64  \n",
      " 3   weight        383 non-null    int64  \n",
      " 4   acceleration  383 non-null    float64\n",
      " 5   model_year    383 non-null    int64  \n",
      " 6   origin        383 non-null    float64\n",
      " 7   car_name      383 non-null    object \n",
      " 8   mpg           383 non-null    float64\n",
      "dtypes: float64(4), int64(4), object(1)\n",
      "memory usage: 29.9+ KB\n"
     ]
    }
   ],
   "source": []
  }
 ],
 "metadata": {
  "kernelspec": {
   "display_name": "Python 3 (ipykernel)",
   "language": "python",
   "name": "python3"
  },
  "language_info": {
   "codemirror_mode": {
    "name": "ipython",
    "version": 3
   },
   "file_extension": ".py",
   "mimetype": "text/x-python",
   "name": "python",
   "nbconvert_exporter": "python",
   "pygments_lexer": "ipython3",
   "version": "3.11.5"
  }
 },
 "nbformat": 4,
 "nbformat_minor": 5
}
